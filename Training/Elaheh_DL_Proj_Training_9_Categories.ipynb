{
  "cells": [
    {
      "cell_type": "code",
      "execution_count": 1,
      "metadata": {
        "id": "cas7_N6RX_Zf"
      },
      "outputs": [],
      "source": [
        "import torch\n",
        "import torch.nn as nn\n",
        "from torch.autograd import Variable\n",
        "import numpy as np\n",
        "from torch.nn import CrossEntropyLoss\n",
        "from torch.nn import Conv2d, MaxPool2d, Linear, ReLU, Softmax, Module, BatchNorm2d, Dropout, LeakyReLU, Sequential\n",
        "from torch.nn.init import kaiming_uniform_, constant_, xavier_uniform_\n",
        "from torchvision import transforms, datasets\n",
        "from torchvision.transforms import Compose, ToTensor, Normalize\n",
        "from torch.utils.data import DataLoader\n",
        "from torch.optim import SGD\n",
        "import sys\n",
        "from torch import save, load, cuda\n",
        "from torch import device\n",
        "import os\n",
        "import torch.nn.functional as F\n",
        "import math\n",
        "import time\n",
        "import torch.optim \n",
        "import torchvision.models as models\n"
      ]
    },
    {
      "cell_type": "code",
      "execution_count": null,
      "metadata": {
        "id": "12DifdaUqJeX"
      },
      "outputs": [],
      "source": [
        "!pip install livelossplot --quiet\n",
        "from livelossplot import PlotLosses\n",
        "\n",
        "# Defining as global the device to use (by default CPU).\n",
        "device = torch.device(\"cuda\")"
      ]
    },
    {
      "cell_type": "code",
      "execution_count": null,
      "metadata": {
        "colab": {
          "base_uri": "https://localhost:8080/"
        },
        "id": "zEtu0lj1kxwD",
        "outputId": "f25ab898-a69c-499e-94a0-def38b17fdae"
      },
      "outputs": [
        {
          "output_type": "stream",
          "name": "stdout",
          "text": [
            "Requirement already satisfied: torchviz in /usr/local/lib/python3.7/dist-packages (0.0.2)\n",
            "Requirement already satisfied: torch in /usr/local/lib/python3.7/dist-packages (from torchviz) (1.11.0+cu113)\n",
            "Requirement already satisfied: graphviz in /usr/local/lib/python3.7/dist-packages (from torchviz) (0.10.1)\n",
            "Requirement already satisfied: typing-extensions in /usr/local/lib/python3.7/dist-packages (from torch->torchviz) (4.2.0)\n"
          ]
        }
      ],
      "source": [
        "!pip install torchviz"
      ]
    },
    {
      "cell_type": "code",
      "execution_count": null,
      "metadata": {
        "id": "RTkP9xzbgPLd"
      },
      "outputs": [],
      "source": [
        "\n",
        "# Are the top five scored labels accurate?\n",
        "def top5_accuracy_img(predicted, labels):\n",
        "    # print(\"predicted: \", predicted)\n",
        "    sorted_vals, sorted_ids = \\\n",
        "        predicted.data.sigmoid().sort(dim = 1, descending = True)\n",
        "    pred_vals = sorted_vals[:, :5] > 0.5 # Anything with sigmoid > 0.5 is 1.\n",
        "    # print(\"pred_vals: \", pred_vals)\n",
        "    true_vals = labels.data.gather(1, sorted_ids[:, :5]) # Find true values.\n",
        "    # print(\"true_vals: \", true_vals)\n",
        "    return (pred_vals == true_vals).sum(dim = 1) / 5.0\n"
      ]
    },
    {
      "cell_type": "code",
      "execution_count": null,
      "metadata": {
        "id": "s7vAmh44CNfl"
      },
      "outputs": [],
      "source": [
        "def train_model(batch_size, \n",
        "                seq_length,\n",
        "                n_epochs, \n",
        "                model, \n",
        "                cost_function, \n",
        "                optimizer,\n",
        "                train_loader,\n",
        "                val_loader):\n",
        "\n",
        "  # Move the model and cost function to GPU (if needed).\n",
        "  model = model.to(device)\n",
        "  cost_function = cost_function.to(device)\n",
        "\n",
        "  # Keep track of best accuracy so far.\n",
        "  best_accuracy = 0 \n",
        "  liveloss = PlotLosses()\n",
        "\n",
        "  # Main for loop of SGD.\n",
        "  for epoch in range(0, n_epochs):\n",
        "      logs = {}\n",
        "\n",
        "      # initialize control variables.\n",
        "      correct = 0\n",
        "      cumulative_loss = 0\n",
        "      n_samples = 0\n",
        "\n",
        "      # Set the model in training mode.\n",
        "      model.train()\n",
        "\n",
        "      # Sample a batch on each iteration.\n",
        "      for (batch_id, (xb, yb)) in enumerate(train_loader):\n",
        "          model.zero_grad()\n",
        "\n",
        "          if xb.shape[0] < batch_size:\n",
        "            continue\n",
        "          # Move (x,y) data to GPU (if so desired).\n",
        "          xb = xb.to(device)\n",
        "          # print(xb.shape)\n",
        "\n",
        "          in_CNN = torch.zeros((seq_length*xb.shape[0], 3, 224, 224))\n",
        "          cnt_in_CNN = 0\n",
        "          for i in range(xb.shape[0]):\n",
        "            for j in range(seq_length):\n",
        "              in_CNN[cnt_in_CNN] = xb[i][:,:,j*224:(j+1)*224]\n",
        "              cnt_in_CNN += 1\n",
        "\n",
        "          # print(in_CNN.shape)\n",
        "\n",
        "          x = in_CNN.to(device)\n",
        "          yb = yb.to(device)\n",
        "\n",
        "          # Compute predictions.\n",
        "          predicted = model(x)\n",
        "          # print(xb.shape, yb.shape, predicted.shape)\n",
        "\n",
        "          # Compute loss.\n",
        "          loss = cost_function(predicted, yb)\n",
        "          cumulative_loss += loss.item()\n",
        "\n",
        "          # Count how many correct in batch.\n",
        "          predicted_ = predicted.detach().softmax(dim = 1)\n",
        "          max_vals, max_ids = predicted_.max(dim = 1)\n",
        "          correct += (max_ids == yb).sum().cpu().item()\n",
        "          n_samples += xb.size(0)\n",
        "\n",
        "          # Compute gradients (autograd).\n",
        "          loss.backward()\n",
        "\n",
        "          # Run one basic training step of SGD.\n",
        "          optimizer.step()\n",
        "\n",
        "          # Keep track of loss and accuracy for the plot.\n",
        "          n_batches = 1 + batch_id \n",
        "          logs['loss'] = cumulative_loss / n_batches\n",
        "          logs['accuracy'] = correct / n_samples\n",
        "      # print(f'train accuracy: {correct / n_samples} and loss: {loss}')\n",
        "      \n",
        "      # initialize control variables.\n",
        "      correct = 0\n",
        "      cumulative_loss = 0\n",
        "      n_samples = 0\n",
        "\n",
        "      # Set the model in evaluation mode.\n",
        "      model.eval()\n",
        "\n",
        "      # No need to keep track of gradients for this part.\n",
        "      with torch.no_grad():\n",
        "          # Run the model on the validation set to keep track of accuracy there.\n",
        "          for (batch_id, (xb, yb)) in enumerate(train_loader):\n",
        "              if xb.shape[0] < batch_size:\n",
        "                continue\n",
        "              # Move (x,y) data to GPU (if so desired).\n",
        "              xb = xb.to(device)\n",
        "              # print(xb.shape)\n",
        "\n",
        "              in_CNN = torch.zeros((seq_length*xb.shape[0], 3, 224, 224))\n",
        "              cnt_in_CNN = 0\n",
        "              for i in range(xb.shape[0]):\n",
        "                for j in range(seq_length):\n",
        "                  in_CNN[cnt_in_CNN] = xb[i][:,:,j*224:(j+1)*224]\n",
        "                  cnt_in_CNN += 1\n",
        "\n",
        "              # print(in_CNN.shape)\n",
        "\n",
        "              x = in_CNN.to(device)\n",
        "              yb = yb.to(device)\n",
        "\n",
        "              # Compute predictions.\n",
        "              predicted = model(x)\n",
        "              # print(xb.shape, yb.shape, predicted.shape)\n",
        "\n",
        "              # Compute loss.\n",
        "              loss = cost_function(predicted, yb)\n",
        "              cumulative_loss += loss.item()\n",
        "\n",
        "              # Count how many correct in batch.\n",
        "              predicted_ = predicted.detach().softmax(dim = 1)\n",
        "              max_vals, max_ids = predicted_.max(dim = 1)\n",
        "              correct += (max_ids == yb).sum().cpu().item()\n",
        "              n_samples += xb.size(0)\n",
        "\n",
        "              # Keep track of loss and accuracy for the plot.\n",
        "              n_batches = 1 + batch_id \n",
        "              logs['val_loss'] = cumulative_loss / n_batches\n",
        "              logs['val_accuracy'] = correct / n_samples\n",
        "\n",
        "      # Save the parameters for the best accuracy on the validation set so far.\n",
        "      if logs['val_accuracy'] > best_accuracy:\n",
        "          best_accuracy = logs['val_accuracy']\n",
        "          torch.save(model.state_dict(), '/content/drive/MyDrive/Elaheh/Deep_Learning_Project/best_model_so_far.pth')\n",
        "\n",
        "      # Update the plot with new logging information.\n",
        "      liveloss.update(logs)\n",
        "      liveloss.send()\n",
        "   "
      ]
    },
    {
      "cell_type": "code",
      "execution_count": null,
      "metadata": {
        "id": "Ncf8472bCMEE"
      },
      "outputs": [],
      "source": [
        "class CNN_LSTM(nn.Module):\n",
        "    #We should have batch_size*seq_length batches everytime. So, the input is (batch_size*seq_length, C=3, H, W). \n",
        "    #After extracting features from model_CNN the output shape is (batch_size*seq_length, C_new, H_new, W_new).\n",
        "    #We reshape the output to (batch_size, seq_length, -1) for passing to model_RNN\n",
        "    def __init__(self, input_size=2048*1*1, hidden_size=4, num_layers=2, seq_length=20, video_batch_size=16, num_classes=50):\n",
        "        self.seq_length = seq_length\n",
        "        self.video_batch_size = video_batch_size\n",
        "        super(CNN_LSTM, self).__init__()\n",
        "\n",
        "        self.model_CNN = models.resnext101_32x8d(pretrained=True)\n",
        "        for param in self.model_CNN.parameters():\n",
        "            param.requires_grad = False\n",
        "        \n",
        "        # x -> (batch_size, seq_length, input_size) --> seq_length=hidden_size\n",
        "        # nn.LSTM(input_size, hidden_size, num_layers) --> hidden_size=seq_length, num_layers=how many LSTM layer we want to stack together\n",
        "        self.lstm = nn.LSTM(input_size, hidden_size, num_layers, batch_first=True, bidirectional=True)\n",
        "\n",
        "        #since we used bidirectional=True in LSTM so the num_layers should be twice or num_layers*2\n",
        "        self.h0 = torch.zeros(num_layers*2, video_batch_size, hidden_size).to(device=device)\n",
        "        self.c0 = torch.zeros(num_layers*2, video_batch_size, hidden_size).to(device=device)\n",
        "\n",
        "        #if bidirectional=True the output of LSTM will be hidden_size*2\n",
        "        self.fc1 = nn.Linear(hidden_size*2, 512)\n",
        "        self.drp1 = nn.Dropout(0.5)\n",
        "        kaiming_uniform_(self.fc1.weight, nonlinearity='relu')\n",
        "        constant_(self.fc1.bias, 0)\n",
        "        self.act1 = nn.ReLU()\n",
        "\n",
        "        self.fc2 = nn.Linear(512, 256)\n",
        "        self.drp2 = nn.Dropout(0.4)\n",
        "        kaiming_uniform_(self.fc2.weight, nonlinearity='relu')\n",
        "        constant_(self.fc2.bias, 0)\n",
        "        self.act2 = nn.ReLU()\n",
        "\n",
        "        self.fc3 = nn.Linear(256, num_classes)\n",
        "        kaiming_uniform_(self.fc3.weight)\n",
        "        constant_(self.fc2.bias, 0)\n",
        "        \n",
        "    def forward(self, x):\n",
        "        # with torch.no_grad():\n",
        "        self.CNN_Feature_Out = {}\n",
        "        self.model_CNN.avgpool.register_forward_hook(self.get_activation('Feature_Out'))\n",
        "        self.model_CNN(x)\n",
        "        out_CNN = self.CNN_Feature_Out['Feature_Out']\n",
        "        # print(out_CNN.shape)\n",
        "        out_CNN = out_CNN.reshape(self.video_batch_size, self.seq_length, -1)\n",
        "        # print(out_CNN.shape)\n",
        "        out_lstm, _ = self.lstm(out_CNN, (self.h0,self.c0))\n",
        "        #out_lstm -> (batch_size, seq_length, hidden_size) -> we only need the last output in our sequence not middle outputs -> out_lstm[:, -1, :]\n",
        "\n",
        "        x = self.drp1(self.act1(self.fc1(out_lstm[:, -1, :])))\n",
        "        x = self.drp2(self.act2(self.fc2(x)))\n",
        "        x = self.fc3(x)\n",
        "\n",
        "        return(x)\n",
        "        # return(out_lstm)\n",
        "    \n",
        "    def get_activation(self, name):\n",
        "        def hook(model, input, output):\n",
        "            self.CNN_Feature_Out[name] = output.detach()\n",
        "        return hook"
      ]
    },
    {
      "cell_type": "code",
      "execution_count": null,
      "metadata": {
        "colab": {
          "base_uri": "https://localhost:8080/"
        },
        "id": "vaS0wk9Co7JL",
        "outputId": "8226ce7e-a350-4948-f79c-8fc750e3287d"
      },
      "outputs": [
        {
          "output_type": "stream",
          "name": "stdout",
          "text": [
            "torch.Size([4, 50])\n"
          ]
        }
      ],
      "source": [
        "#output of avgpool = 2048*1*1 and output of layer4 is 2048*7*7\n",
        "input_size=2048*1*1\n",
        "hidden_size=512\n",
        "num_layers=2 #how many lstm stack together\n",
        "\n",
        "ImageBatchSize = 120\n",
        "seq_length = 30 #seq_length=hidden_size\n",
        "video_batch_size = int(ImageBatchSize/seq_length)\n",
        "\n",
        "model = CNN_LSTM(input_size=input_size, hidden_size=hidden_size, num_layers=num_layers, seq_length=seq_length, video_batch_size=video_batch_size, num_classes=50)\n",
        "model = model.to(device)\n",
        "x = torch.rand(ImageBatchSize, 3, 224, 224)\n",
        "x = x.cuda()\n",
        "out = model(x)\n",
        "print(out.shape)"
      ]
    },
    {
      "cell_type": "code",
      "execution_count": null,
      "metadata": {
        "colab": {
          "base_uri": "https://localhost:8080/",
          "height": 36
        },
        "id": "XOwx1VaYndnT",
        "outputId": "6bb07f6a-5627-4aed-f2cd-a4e996165ebe"
      },
      "outputs": [
        {
          "output_type": "execute_result",
          "data": {
            "text/plain": [
              "'lstm-rnn.pdf'"
            ],
            "application/vnd.google.colaboratory.intrinsic+json": {
              "type": "string"
            }
          },
          "metadata": {},
          "execution_count": 8
        }
      ],
      "source": [
        "from torchviz import make_dot\n",
        "make_dot(out, params=dict(list(model.named_parameters()))).render(\"lstm-rnn\", format=\"pdf\")"
      ]
    },
    {
      "cell_type": "markdown",
      "metadata": {
        "id": "vpUpVV7WP5H8"
      },
      "source": [
        "We should concatenate seq_length of inputs together as a one input and set a label to it. \n",
        "\n",
        "1) When we want to pass the input to CNN_LSTM we need to break it to the original image size. For example, if we have 16 videos and each video has 20 images so totally we have 320 images which should pass to CNN_LSTM. \n",
        "\n",
        "2) Then, we will reshape the output of self.model_CNN before passing it to LSTM."
      ]
    },
    {
      "cell_type": "code",
      "execution_count": null,
      "metadata": {
        "id": "iTOSzCu3qE25"
      },
      "outputs": [],
      "source": [
        "# !cp -r \"/content/drive/MyDrive/Elaheh/Deep_Learning_Project/Dataset_Video/test/\" \"/content/drive/MyDrive/Elaheh/Deep_Learning_Project/Dataset_tmp/test\""
      ]
    },
    {
      "cell_type": "code",
      "execution_count": null,
      "metadata": {
        "colab": {
          "base_uri": "https://localhost:8080/"
        },
        "id": "JcpG_aBBYkux",
        "outputId": "4fc44901-0f61-4912-b441-6d92ee6f8c25"
      },
      "outputs": [
        {
          "output_type": "stream",
          "name": "stderr",
          "text": [
            "/usr/local/lib/python3.7/dist-packages/torch/utils/data/dataloader.py:490: UserWarning: This DataLoader will create 4 worker processes in total. Our suggested max number of worker in current system is 2, which is smaller than what this DataLoader is going to create. Please be aware that excessive worker creation might get DataLoader running slow or even freeze, lower the worker number to avoid potential slowness/freeze if necessary.\n",
            "  cpuset_checked))\n"
          ]
        }
      ],
      "source": [
        "# Parse input options\n",
        "dataset_path    = \"/content/drive/MyDrive/Elaheh/Deep_Learning_Project/Dataset_Vid/\"\n",
        "outfile_path    = \"/content/drive/MyDrive/Elaheh/Deep_Learning_Project/Data/\"\n",
        "model_checkpt   = \"/content/drive/MyDrive/Elaheh/Deep_Learning_Project/Data/\"\n",
        "\n",
        "data_transform = transforms.Compose([\n",
        "        transforms.RandomHorizontalFlip(),\n",
        "        transforms.RandomRotation(60),\n",
        "        transforms.ToTensor(),\n",
        "        transforms.Normalize(mean=[0.485, 0.456, 0.406],\n",
        "                             std=[0.229, 0.224, 0.225])\n",
        "    ])\n",
        "\n",
        "path_data = os.path.join(dataset_path, \"train\")\n",
        "train_dataset = datasets.ImageFolder(root = path_data,\n",
        "                                           transform=data_transform)\n",
        "train_loader = torch.utils.data.DataLoader(train_dataset,\n",
        "                                             batch_size=video_batch_size, shuffle=True,\n",
        "                                             num_workers=4)\n",
        "\n",
        "valid_transform = transforms.Compose([\n",
        "        transforms.ToTensor(),\n",
        "        transforms.Normalize(mean=[0.485, 0.456, 0.406],\n",
        "                             std=[0.229, 0.224, 0.225])\n",
        "    ])\n",
        "\n",
        "path_data = os.path.join(dataset_path, \"test\") #\"test\"\n",
        "test_dataset = datasets.ImageFolder(root = path_data,\n",
        "                                           transform=valid_transform)\n",
        "val_loader = torch.utils.data.DataLoader(test_dataset,\n",
        "                                             batch_size=video_batch_size, shuffle=True,\n",
        "                                             num_workers=4)\n",
        "\n"
      ]
    },
    {
      "cell_type": "code",
      "execution_count": null,
      "metadata": {
        "id": "NNy98CkbyXBl"
      },
      "outputs": [],
      "source": [
        "# # Load the model parameters for the one that achieved the best val accuracy.\n",
        "# model.load_state_dict(torch.load('/content/drive/MyDrive/Elaheh/Deep_Learning_Project/best_model_so_far.pth')) "
      ]
    },
    {
      "cell_type": "code",
      "execution_count": null,
      "metadata": {
        "colab": {
          "base_uri": "https://localhost:8080/",
          "height": 695
        },
        "id": "NsSmwW95YoB7",
        "outputId": "cdb243a8-cd60-4bd1-a350-155af37c8021"
      },
      "outputs": [
        {
          "output_type": "display_data",
          "data": {
            "text/plain": [
              "<Figure size 864x576 with 2 Axes>"
            ],
            "image/png": "[encoded data removed]"
          },
          "metadata": {
            "needs_background": "light"
          }
        },
        {
          "output_type": "stream",
          "name": "stdout",
          "text": [
            "accuracy\n",
            "\ttraining         \t (min:    0.183, max:    0.513, cur:    0.503)\n",
            "\tvalidation       \t (min:    0.153, max:    0.536, cur:    0.514)\n",
            "Loss\n",
            "\ttraining         \t (min:    1.165, max:    2.493, cur:    1.167)\n",
            "\tvalidation       \t (min:    1.103, max:    2.106, cur:    1.115)\n"
          ]
        }
      ],
      "source": [
        "from torchvision.models.feature_extraction import create_feature_extractor\n",
        "\n",
        "n_epochs = 200\n",
        "learningRate = 1e-3\n",
        "optimizer = SGD(model.parameters(),lr=learningRate, momentum=0.9, weight_decay=5e-4, nesterov=True)\n",
        "cost_function = CrossEntropyLoss()\n",
        "\n",
        "train_model(video_batch_size, seq_length, n_epochs, \n",
        "            model, cost_function, optimizer,\n",
        "            train_loader, val_loader);"
      ]
    },
    {
      "cell_type": "code",
      "execution_count": null,
      "metadata": {
        "id": "XL8vrxYCpVE8"
      },
      "outputs": [],
      "source": [
        ""
      ]
    }
  ],
  "metadata": {
    "accelerator": "GPU",
    "colab": {
      "collapsed_sections": [],
      "name": "Elaheh_DL_Proj_Training_9_Categories.ipynb",
      "provenance": []
    },
    "kernelspec": {
      "display_name": "Python 3",
      "name": "python3"
    },
    "language_info": {
      "name": "python"
    }
  },
  "nbformat": 4,
  "nbformat_minor": 0
}